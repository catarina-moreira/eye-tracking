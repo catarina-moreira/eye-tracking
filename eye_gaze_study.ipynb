{
 "cells": [
  {
   "cell_type": "markdown",
   "metadata": {},
   "source": [
    "# Data Analysis of Eye Tracking Data in Chest-Xrays\n",
    "\n"
   ]
  },
  {
   "cell_type": "markdown",
   "metadata": {},
   "source": [
    "## Set Up\n",
    "\n",
    "### Install requirements"
   ]
  },
  {
   "cell_type": "code",
   "execution_count": 1,
   "metadata": {},
   "outputs": [],
   "source": [
    "# install required dependencies\n",
    "#%pip install -r requirements.txt"
   ]
  },
  {
   "cell_type": "markdown",
   "metadata": {},
   "source": [
    "### SETUP GPU"
   ]
  },
  {
   "cell_type": "code",
   "execution_count": 2,
   "metadata": {},
   "outputs": [
    {
     "name": "stdout",
     "output_type": "stream",
     "text": [
      "Comparing CPU vs GPU executions...\n"
     ]
    }
   ],
   "source": [
    "# setting up GPU\n",
    "import tensorflow as tf\n",
    "from util.test_gpu import cpu\n",
    "from util.test_gpu import gpu\n",
    "import timeit\n",
    "\n",
    "print(\"Comparing CPU vs GPU executions...\")\n",
    "device_name = tf.test.gpu_device_name()\n",
    "if device_name != '/device:GPU:0':\n",
    "    print('\\n\\nThis error most likely means that this notebook is not '\n",
    "            'configured to use a GPU.  Change this in Notebook Settings via the '\n",
    "            'command palette (cmd/ctrl-shift-P) or the Edit menu.\\n\\n')\n",
    "    raise SystemError('GPU device not found')\n",
    "    \n",
    "# We run each op once to warm up\n",
    "#cpu()\n",
    "#gpu()\n",
    "\n",
    "# Run the op several times.\n",
    "#print('Time (s) to convolve 32x7x7x3 filter over random 100x100x100x3 images '\n",
    "#    '(batch x height x width x channel). Sum of ten runs.')\n",
    "#print('CPU (s):')\n",
    "\n",
    "#cpu_time = timeit.timeit('cpu()', number=10, setup=\"from __main__ import cpu\")\n",
    "#print(cpu_time)\n",
    "#print('GPU (s):')\n",
    "#gpu_time = timeit.timeit('gpu()', number=10, setup=\"from __main__ import gpu\")\n",
    "#print(gpu_time)\n",
    "#print('GPU speedup over CPU: {}x'.format(int(cpu_time/gpu_time)))\n"
   ]
  },
  {
   "cell_type": "markdown",
   "metadata": {},
   "source": [
    "### Importing Libraries"
   ]
  },
  {
   "cell_type": "code",
   "execution_count": 3,
   "metadata": {},
   "outputs": [
    {
     "name": "stderr",
     "output_type": "stream",
     "text": [
      "C:\\Users\\cmore\\AppData\\Local\\Temp\\ipykernel_24212\\755396345.py:18: DeprecationWarning: Importing display from IPython.core.display is deprecated since IPython 7.14, please import from IPython display\n",
      "  from IPython.core.display import display, HTML\n"
     ]
    }
   ],
   "source": [
    "# general libs\n",
    "import numpy as np\n",
    "import pandas as pd\n",
    "import pingouin as pt\n",
    "import warnings\n",
    "import math\n",
    "import pickle\n",
    "import shutil\n",
    "import os\n",
    "\n",
    "# image processing\n",
    "from PIL import Image, ImageDraw, ImageFont\n",
    "import cv2\n",
    "import pydicom\n",
    "\n",
    "# visualisation\n",
    "import IPython\n",
    "from IPython.core.display import display, HTML\n",
    "\n",
    "# matplotlib\n",
    "import matplotlib.pyplot as plt\n",
    "from matplotlib.colors import ListedColormap\n",
    "from matplotlib import pyplot, image\n",
    "from matplotlib.patches import Ellipse\n",
    "\n",
    "#seaborn\n",
    "import seaborn as sns\n",
    "\n",
    "# IPython/Jupyter Notebook progressbar decorator for iterators.\n",
    "from tqdm.notebook import tqdm\n",
    "\n",
    "# import my own functions\n",
    "from  util.global_vars import GlobalVars\n",
    "from mimicdata import *\n",
    "from dataprocessing.patient import Patient\n",
    "\n",
    "# no display limit in dataframes\n",
    "pd.set_option('display.max_rows', None)\n",
    "pd.set_option('display.max_columns', None)\n",
    "\n",
    "warnings.filterwarnings('ignore') # ignore warnings\n",
    "\n",
    "# will make your plot outputs appear and be stored within the notebook.\n",
    "%matplotlib inline\n",
    "\n",
    "sns.set() # sets seaborn as the main visualisationlib\n",
    "sns.set_context('notebook') # Larger scale for plots in notebooks\n",
    "\n",
    "# Plotting pretty figures and avoid blurry images\n",
    "%config InlineBackend.figure_format = 'retina'\n",
    "\n",
    "# Enable multiple cell outputs\n",
    "from IPython.core.interactiveshell import InteractiveShell\n",
    "InteractiveShell.ast_node_interactivity = 'all'\n",
    "\n",
    "plt.rcParams.update({'figure.max_open_warning': 1})"
   ]
  },
  {
   "cell_type": "markdown",
   "metadata": {},
   "source": [
    "### Initializing Global Vars"
   ]
  },
  {
   "cell_type": "code",
   "execution_count": 4,
   "metadata": {},
   "outputs": [],
   "source": [
    "# initialize vars\n",
    "gv = GlobalVars( False )\n"
   ]
  },
  {
   "cell_type": "code",
   "execution_count": 5,
   "metadata": {},
   "outputs": [
    {
     "name": "stdout",
     "output_type": "stream",
     "text": [
      "MIMICDataProcessor\n"
     ]
    }
   ],
   "source": [
    "process = MIMICDataProcessor()\n"
   ]
  },
  {
   "cell_type": "code",
   "execution_count": 6,
   "metadata": {},
   "outputs": [
    {
     "name": "stdout",
     "output_type": "stream",
     "text": [
      "Loading EYE GAZE original dataset...\n"
     ]
    }
   ],
   "source": [
    "process.processEYE_GAZE( gv )"
   ]
  },
  {
   "cell_type": "code",
   "execution_count": 7,
   "metadata": {},
   "outputs": [
    {
     "data": {
      "text/plain": [
       "{'15628804_IMG1': <dataprocessing.patient.Patient at 0x1fab4c4f790>,\n",
       " '19462352_IMG1': <dataprocessing.patient.Patient at 0x1fab4c4f4c0>,\n",
       " '11255143_IMG1': <dataprocessing.patient.Patient at 0x1faad8c6b50>}"
      ]
     },
     "execution_count": 7,
     "metadata": {},
     "output_type": "execute_result"
    }
   ],
   "source": [
    "PATIENTS_DIC = gv.getPATIENTS_DIC()\n",
    "PATIENTS_DIC"
   ]
  },
  {
   "cell_type": "code",
   "execution_count": 10,
   "metadata": {},
   "outputs": [
    {
     "name": "stdout",
     "output_type": "stream",
     "text": [
      "{'STUDY_ID': 's58573295', 'IMAGE_ID': 's24c7496c-d7635dfe-b8e0b87f-d818affc-78ff7cf4', 'PATIENT_ID': '15628804', 'PATIENT_KEY': '15628804_IMG1', 'METADATA': 'D:GoogleDrive\\\\Datasets\\\\XAMI-MIMIC\\\\XAMI-MIMIC\\\\patient_15628804\\\\EyeGaze\\\\master_sheet.csv', 'CORE_PATH': 'D:GoogleDrive\\\\Datasets\\\\XAMI-MIMIC\\\\XAMI-MIMIC\\\\patient_15628804\\\\Core\\\\', 'ED': 'D:GoogleDrive\\\\Datasets\\\\XAMI-MIMIC\\\\XAMI-MIMIC\\\\patient_15628804\\\\ED\\\\', 'EYE_GAZE_PATH': 'D:GoogleDrive\\\\Datasets\\\\XAMI-MIMIC\\\\XAMI-MIMIC\\\\patient_15628804\\\\EyeGaze\\\\', 'DIAGNOSIS': {'COMMENTS': '___F with CHF and  shortness of breath// ?Pulmonary edema', 'KEY_CONDITIONS_NLP': ['enlarged_cardiac_silhouette', 'pulmonary_edema__hazy_opacity'], 'KEY_CONDITIONS_CHEXPERT_PRED': ['cardiomegaly'], 'GLOBAL': 'CHF'}}\n",
      "\n",
      "\n",
      "\n",
      "{'STUDY_ID': 's51900589', 'IMAGE_ID': 's78711a04-264d5305-d5feec9b-ebef1cec-fdc6db9c', 'PATIENT_ID': '19462352', 'PATIENT_KEY': '19462352_IMG1', 'METADATA': 'D:GoogleDrive\\\\Datasets\\\\XAMI-MIMIC\\\\XAMI-MIMIC\\\\patient_19462352\\\\EyeGaze\\\\master_sheet.csv', 'CORE_PATH': 'D:GoogleDrive\\\\Datasets\\\\XAMI-MIMIC\\\\XAMI-MIMIC\\\\patient_19462352\\\\Core\\\\', 'ED': 'D:GoogleDrive\\\\Datasets\\\\XAMI-MIMIC\\\\XAMI-MIMIC\\\\patient_19462352\\\\ED\\\\', 'EYE_GAZE_PATH': 'D:GoogleDrive\\\\Datasets\\\\XAMI-MIMIC\\\\XAMI-MIMIC\\\\patient_19462352\\\\EyeGaze\\\\', 'DIAGNOSIS': {'COMMENTS': '___F with hypertension, tachycardia', 'KEY_CONDITIONS_NLP': ['pleural_effusion_or_thickening', 'pulmonary_edema__hazy_opacity', 'vascular_redistribution'], 'KEY_CONDITIONS_CHEXPERT_PRED': ['edema', 'pleural_effusion', 'pneumonia'], 'GLOBAL': 'CHF'}}\n",
      "\n",
      "\n",
      "\n",
      "{'STUDY_ID': 's50941783', 'IMAGE_ID': 'sa770d8d6-7b6a62ff-815ab876-c81709a8-9a654a54', 'PATIENT_ID': '11255143', 'PATIENT_KEY': '11255143_IMG1', 'METADATA': 'D:GoogleDrive\\\\Datasets\\\\XAMI-MIMIC\\\\XAMI-MIMIC\\\\patient_11255143\\\\EyeGaze\\\\master_sheet.csv', 'CORE_PATH': 'D:GoogleDrive\\\\Datasets\\\\XAMI-MIMIC\\\\XAMI-MIMIC\\\\patient_11255143\\\\Core\\\\', 'ED': 'D:GoogleDrive\\\\Datasets\\\\XAMI-MIMIC\\\\XAMI-MIMIC\\\\patient_11255143\\\\ED\\\\', 'EYE_GAZE_PATH': 'D:GoogleDrive\\\\Datasets\\\\XAMI-MIMIC\\\\XAMI-MIMIC\\\\patient_11255143\\\\EyeGaze\\\\', 'DIAGNOSIS': {'COMMENTS': 'History of myocardial infarction.  Shortness of breath.', 'KEY_CONDITIONS_NLP': [], 'KEY_CONDITIONS_CHEXPERT_PRED': ['no_finding'], 'GLOBAL': 'CHF'}}\n",
      "\n",
      "\n",
      "\n"
     ]
    }
   ],
   "source": [
    "for pt in PATIENTS_DIC.keys():\n",
    "    print(PATIENTS_DIC[pt].getPatient_data())\n",
    "    print(\"\\n\\n\")"
   ]
  },
  {
   "cell_type": "code",
   "execution_count": null,
   "metadata": {},
   "outputs": [],
   "source": []
  },
  {
   "cell_type": "code",
   "execution_count": null,
   "metadata": {},
   "outputs": [],
   "source": []
  }
 ],
 "metadata": {
  "kernelspec": {
   "display_name": "Python 3.9.12 ('base')",
   "language": "python",
   "name": "python3"
  },
  "language_info": {
   "codemirror_mode": {
    "name": "ipython",
    "version": 3
   },
   "file_extension": ".py",
   "mimetype": "text/x-python",
   "name": "python",
   "nbconvert_exporter": "python",
   "pygments_lexer": "ipython3",
   "version": "3.9.12"
  },
  "orig_nbformat": 4,
  "vscode": {
   "interpreter": {
    "hash": "6260509064eb67b36916815bc82da85b0a66bf2dbc63b7ed396e364365f7498b"
   }
  }
 },
 "nbformat": 4,
 "nbformat_minor": 2
}
