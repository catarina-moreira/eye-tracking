{
 "cells": [
  {
   "cell_type": "markdown",
   "metadata": {},
   "source": [
    "# Data Analysis of Eye Tracking Data in Chest-Xrays\n",
    "\n"
   ]
  },
  {
   "cell_type": "markdown",
   "metadata": {},
   "source": [
    "## Set Up\n",
    "\n",
    "### Install requirements"
   ]
  },
  {
   "cell_type": "code",
   "execution_count": null,
   "metadata": {},
   "outputs": [],
   "source": [
    "# install required dependencies\n",
    "#%pip install -r requirements.txt"
   ]
  },
  {
   "cell_type": "markdown",
   "metadata": {},
   "source": [
    "### SETUP GPU"
   ]
  },
  {
   "cell_type": "code",
   "execution_count": null,
   "metadata": {},
   "outputs": [],
   "source": [
    "# setting up GPU\n",
    "import tensorflow as tf\n",
    "from util.test_gpu import cpu\n",
    "from util.test_gpu import gpu\n",
    "import timeit\n",
    "\n",
    "print(\"Comparing CPU vs GPU executions...\")\n",
    "device_name = tf.test.gpu_device_name()\n",
    "if device_name != '/device:GPU:0':\n",
    "    print('\\n\\nThis error most likely means that this notebook is not '\n",
    "            'configured to use a GPU.  Change this in Notebook Settings via the '\n",
    "            'command palette (cmd/ctrl-shift-P) or the Edit menu.\\n\\n')\n",
    "    raise SystemError('GPU device not found')\n",
    "    \n",
    "# We run each op once to warm up\n",
    "#cpu()\n",
    "#gpu()\n",
    "\n",
    "# Run the op several times.\n",
    "#print('Time (s) to convolve 32x7x7x3 filter over random 100x100x100x3 images '\n",
    "#    '(batch x height x width x channel). Sum of ten runs.')\n",
    "#print('CPU (s):')\n",
    "\n",
    "#cpu_time = timeit.timeit('cpu()', number=10, setup=\"from __main__ import cpu\")\n",
    "#print(cpu_time)\n",
    "#print('GPU (s):')\n",
    "#gpu_time = timeit.timeit('gpu()', number=10, setup=\"from __main__ import gpu\")\n",
    "#print(gpu_time)\n",
    "#print('GPU speedup over CPU: {}x'.format(int(cpu_time/gpu_time)))\n"
   ]
  },
  {
   "cell_type": "markdown",
   "metadata": {},
   "source": [
    "### Initializing Notebook"
   ]
  },
  {
   "cell_type": "code",
   "execution_count": 1,
   "metadata": {},
   "outputs": [
    {
     "name": "stderr",
     "output_type": "stream",
     "text": [
      "C:\\Users\\cmore\\AppData\\Local\\Temp\\ipykernel_19272\\1927748649.py:9: DeprecationWarning: Importing display from IPython.core.display is deprecated since IPython 7.14, please import from IPython display\n",
      "  from IPython.core.display import display, HTML\n"
     ]
    }
   ],
   "source": [
    "# general libs\n",
    "import numpy as np\n",
    "import pandas as pd\n",
    "import pingouin as pt\n",
    "import warnings\n",
    "\n",
    "# visualisation\n",
    "import IPython\n",
    "from IPython.core.display import display, HTML\n",
    "from IPython.core.interactiveshell import InteractiveShell # Enable multiple cell outputs\n",
    "from tqdm.notebook import tqdm # IPython/Jupyter Notebook progressbar decorator for iterators.\n",
    "import matplotlib.pyplot as plt\n",
    "import seaborn as sns\n",
    "\n",
    "# import my own functions\n",
    "from  util.global_vars import GlobalVars\n",
    "from util.aux_functions import *\n",
    "from dataprocessing.patient import Patient\n",
    "from dataprocessing.mimicdata import MIMICDataProcessor\n"
   ]
  },
  {
   "cell_type": "code",
   "execution_count": 2,
   "metadata": {},
   "outputs": [],
   "source": [
    "# package configurations\n",
    "# no display limit in dataframes\n",
    "pd.set_option('display.max_rows', None)\n",
    "pd.set_option('display.max_columns', None)\n",
    "\n",
    "warnings.filterwarnings('ignore') # ignore warnings\n",
    "\n",
    "sns.set() # sets seaborn as the main visualisationlib\n",
    "sns.set_context('notebook') # Larger scale for plots in notebooks\n",
    "\n",
    "# Plotting pretty figures and avoid blurry images\n",
    "%config InlineBackend.figure_format = 'retina'\n",
    "# will make your plot outputs appear and be stored within the notebook.\n",
    "%matplotlib inline\n",
    "plt.rcParams.update({'figure.max_open_warning': 1})\n",
    "\n",
    "# Enable multiple cell outputs\n",
    "InteractiveShell.ast_node_interactivity = 'all'"
   ]
  },
  {
   "cell_type": "code",
   "execution_count": 3,
   "metadata": {},
   "outputs": [
    {
     "name": "stdout",
     "output_type": "stream",
     "text": [
      "Loading dictionaries...\n",
      "Total patients loaded: 1083\n",
      "Total Images -> Diagnosis loaded: 1083\n",
      "Total Images -> Patient Keys loaded: 1083\n"
     ]
    }
   ],
   "source": [
    "# initialize vars\n",
    "# first argument asks if the program will run in Google Colab\n",
    "# second argument asks if the user wants to pre=process the dataset (True) or\n",
    "# if the user wants to load a previously process dataset from a dictionary file (False)\n",
    "gv = GlobalVars( isColab = False, flag = False )\n",
    "\n",
    "# if FLAG is true, process the dataset, otherwise load it from disk\n",
    "create_XAMI_MIMIC_Dictionaries( gv ) if gv.getFLAG() else load_XAMI_MIMIC_Dictionaries( gv )\n",
    "\n",
    "# for convinience, let's put the dictinaries in separate variables\n",
    "PATIENTS_DIC, IMG_TO_DIAGNOSIS, IMG_TO_PATIENT = gv.getMIMICDictionaries()\n",
    "\n",
    "print(\"Total patients loaded: \" + str(len(PATIENTS_DIC)))\n",
    "print(\"Total Images -> Diagnosis loaded: \" + str(len(IMG_TO_DIAGNOSIS)))\n",
    "print(\"Total Images -> Patient Keys loaded: \" + str(len(IMG_TO_PATIENT)))"
   ]
  },
  {
   "cell_type": "code",
   "execution_count": 4,
   "metadata": {},
   "outputs": [
    {
     "name": "stdout",
     "output_type": "stream",
     "text": [
      "FOUND PATIENT: 19565653_IMG1 with DICOM 060cf092-fe76bdf7-19fee515-26cbef2c-5c16ba6f\n"
     ]
    },
    {
     "ename": "KeyError",
     "evalue": "0",
     "output_type": "error",
     "traceback": [
      "\u001b[1;31m---------------------------------------------------------------------------\u001b[0m",
      "\u001b[1;31mKeyError\u001b[0m                                  Traceback (most recent call last)",
      "File \u001b[1;32mc:\\Users\\cmore\\anaconda3\\lib\\site-packages\\pandas\\core\\indexes\\base.py:3621\u001b[0m, in \u001b[0;36mIndex.get_loc\u001b[1;34m(self, key, method, tolerance)\u001b[0m\n\u001b[0;32m   3620\u001b[0m \u001b[39mtry\u001b[39;00m:\n\u001b[1;32m-> 3621\u001b[0m     \u001b[39mreturn\u001b[39;00m \u001b[39mself\u001b[39;49m\u001b[39m.\u001b[39;49m_engine\u001b[39m.\u001b[39;49mget_loc(casted_key)\n\u001b[0;32m   3622\u001b[0m \u001b[39mexcept\u001b[39;00m \u001b[39mKeyError\u001b[39;00m \u001b[39mas\u001b[39;00m err:\n",
      "File \u001b[1;32mc:\\Users\\cmore\\anaconda3\\lib\\site-packages\\pandas\\_libs\\index.pyx:136\u001b[0m, in \u001b[0;36mpandas._libs.index.IndexEngine.get_loc\u001b[1;34m()\u001b[0m\n",
      "File \u001b[1;32mc:\\Users\\cmore\\anaconda3\\lib\\site-packages\\pandas\\_libs\\index.pyx:163\u001b[0m, in \u001b[0;36mpandas._libs.index.IndexEngine.get_loc\u001b[1;34m()\u001b[0m\n",
      "File \u001b[1;32mpandas\\_libs\\hashtable_class_helper.pxi:2131\u001b[0m, in \u001b[0;36mpandas._libs.hashtable.Int64HashTable.get_item\u001b[1;34m()\u001b[0m\n",
      "File \u001b[1;32mpandas\\_libs\\hashtable_class_helper.pxi:2140\u001b[0m, in \u001b[0;36mpandas._libs.hashtable.Int64HashTable.get_item\u001b[1;34m()\u001b[0m\n",
      "\u001b[1;31mKeyError\u001b[0m: 0",
      "\nThe above exception was the direct cause of the following exception:\n",
      "\u001b[1;31mKeyError\u001b[0m                                  Traceback (most recent call last)",
      "\u001b[1;32mc:\\Users\\cmore\\GitHub\\eye-tracking\\eye_gaze_study.ipynb Cell 10'\u001b[0m in \u001b[0;36m<cell line: 1>\u001b[1;34m()\u001b[0m\n\u001b[1;32m----> <a href='vscode-notebook-cell:/c%3A/Users/cmore/GitHub/eye-tracking/eye_gaze_study.ipynb#ch0000013?line=0'>1</a>\u001b[0m patientsBoth \u001b[39m=\u001b[39m MIMICDataProcessor( gv )\u001b[39m.\u001b[39;49mfindPatientsInBothDatasets()\n\u001b[0;32m      <a href='vscode-notebook-cell:/c%3A/Users/cmore/GitHub/eye-tracking/eye_gaze_study.ipynb#ch0000013?line=1'>2</a>\u001b[0m patientsBoth\n",
      "File \u001b[1;32mc:\\Users\\cmore\\GitHub\\eye-tracking\\dataprocessing\\mimicdata.py:41\u001b[0m, in \u001b[0;36mMIMICDataProcessor.findPatientsInBothDatasets\u001b[1;34m(self)\u001b[0m\n\u001b[0;32m     39\u001b[0m \u001b[39mfor\u001b[39;00m indx \u001b[39min\u001b[39;00m \u001b[39mrange\u001b[39m(\u001b[39m0\u001b[39m, study_df\u001b[39m.\u001b[39mshape[\u001b[39m0\u001b[39m]):\n\u001b[0;32m     40\u001b[0m   temp_res  \u001b[39m=\u001b[39m {}\n\u001b[1;32m---> 41\u001b[0m   study_id \u001b[39m=\u001b[39m study_df\u001b[39m.\u001b[39;49mloc[indx,\u001b[39m\"\u001b[39;49m\u001b[39mid\u001b[39;49m\u001b[39m\"\u001b[39;49m]\n\u001b[0;32m     42\u001b[0m   patient_folder \u001b[39m=\u001b[39m os\u001b[39m.\u001b[39mpath\u001b[39m.\u001b[39mjoin(global_vars\u001b[39m.\u001b[39mgetMIMIC_PATH(), \u001b[39m\"\u001b[39m\u001b[39mpatient_\u001b[39m\u001b[39m\"\u001b[39m \u001b[39m+\u001b[39m patient_key\u001b[39m.\u001b[39msplit(\u001b[39m\"\u001b[39m\u001b[39m_\u001b[39m\u001b[39m\"\u001b[39m)[\u001b[39m0\u001b[39m], \u001b[39m\"\u001b[39m\u001b[39m\"\u001b[39m)\n\u001b[0;32m     43\u001b[0m   temp_res[\u001b[39m'\u001b[39m\u001b[39mREFLACX_PATH_\u001b[39m\u001b[39m'\u001b[39m \u001b[39m+\u001b[39m \u001b[39mstr\u001b[39m(indx)] \u001b[39m=\u001b[39m  os\u001b[39m.\u001b[39mpath\u001b[39m.\u001b[39mjoin( patient_folder, \u001b[39m\"\u001b[39m\u001b[39mREFLACX\u001b[39m\u001b[39m\"\u001b[39m, study_id, \u001b[39m\"\u001b[39m\u001b[39m\"\u001b[39m)\n",
      "File \u001b[1;32mc:\\Users\\cmore\\anaconda3\\lib\\site-packages\\pandas\\core\\indexing.py:960\u001b[0m, in \u001b[0;36m_LocationIndexer.__getitem__\u001b[1;34m(self, key)\u001b[0m\n\u001b[0;32m    958\u001b[0m     key \u001b[39m=\u001b[39m \u001b[39mtuple\u001b[39m(com\u001b[39m.\u001b[39mapply_if_callable(x, \u001b[39mself\u001b[39m\u001b[39m.\u001b[39mobj) \u001b[39mfor\u001b[39;00m x \u001b[39min\u001b[39;00m key)\n\u001b[0;32m    959\u001b[0m     \u001b[39mif\u001b[39;00m \u001b[39mself\u001b[39m\u001b[39m.\u001b[39m_is_scalar_access(key):\n\u001b[1;32m--> 960\u001b[0m         \u001b[39mreturn\u001b[39;00m \u001b[39mself\u001b[39;49m\u001b[39m.\u001b[39;49mobj\u001b[39m.\u001b[39;49m_get_value(\u001b[39m*\u001b[39;49mkey, takeable\u001b[39m=\u001b[39;49m\u001b[39mself\u001b[39;49m\u001b[39m.\u001b[39;49m_takeable)\n\u001b[0;32m    961\u001b[0m     \u001b[39mreturn\u001b[39;00m \u001b[39mself\u001b[39m\u001b[39m.\u001b[39m_getitem_tuple(key)\n\u001b[0;32m    962\u001b[0m \u001b[39melse\u001b[39;00m:\n\u001b[0;32m    963\u001b[0m     \u001b[39m# we by definition only have the 0th axis\u001b[39;00m\n",
      "File \u001b[1;32mc:\\Users\\cmore\\anaconda3\\lib\\site-packages\\pandas\\core\\frame.py:3622\u001b[0m, in \u001b[0;36mDataFrame._get_value\u001b[1;34m(self, index, col, takeable)\u001b[0m\n\u001b[0;32m   3616\u001b[0m engine \u001b[39m=\u001b[39m \u001b[39mself\u001b[39m\u001b[39m.\u001b[39mindex\u001b[39m.\u001b[39m_engine\n\u001b[0;32m   3618\u001b[0m \u001b[39mif\u001b[39;00m \u001b[39mnot\u001b[39;00m \u001b[39misinstance\u001b[39m(\u001b[39mself\u001b[39m\u001b[39m.\u001b[39mindex, MultiIndex):\n\u001b[0;32m   3619\u001b[0m     \u001b[39m# CategoricalIndex: Trying to use the engine fastpath may give incorrect\u001b[39;00m\n\u001b[0;32m   3620\u001b[0m     \u001b[39m#  results if our categories are integers that dont match our codes\u001b[39;00m\n\u001b[0;32m   3621\u001b[0m     \u001b[39m# IntervalIndex: IntervalTree has no get_loc\u001b[39;00m\n\u001b[1;32m-> 3622\u001b[0m     row \u001b[39m=\u001b[39m \u001b[39mself\u001b[39;49m\u001b[39m.\u001b[39;49mindex\u001b[39m.\u001b[39;49mget_loc(index)\n\u001b[0;32m   3623\u001b[0m     \u001b[39mreturn\u001b[39;00m series\u001b[39m.\u001b[39m_values[row]\n\u001b[0;32m   3625\u001b[0m \u001b[39m# For MultiIndex going through engine effectively restricts us to\u001b[39;00m\n\u001b[0;32m   3626\u001b[0m \u001b[39m#  same-length tuples; see test_get_set_value_no_partial_indexing\u001b[39;00m\n",
      "File \u001b[1;32mc:\\Users\\cmore\\anaconda3\\lib\\site-packages\\pandas\\core\\indexes\\base.py:3623\u001b[0m, in \u001b[0;36mIndex.get_loc\u001b[1;34m(self, key, method, tolerance)\u001b[0m\n\u001b[0;32m   3621\u001b[0m     \u001b[39mreturn\u001b[39;00m \u001b[39mself\u001b[39m\u001b[39m.\u001b[39m_engine\u001b[39m.\u001b[39mget_loc(casted_key)\n\u001b[0;32m   3622\u001b[0m \u001b[39mexcept\u001b[39;00m \u001b[39mKeyError\u001b[39;00m \u001b[39mas\u001b[39;00m err:\n\u001b[1;32m-> 3623\u001b[0m     \u001b[39mraise\u001b[39;00m \u001b[39mKeyError\u001b[39;00m(key) \u001b[39mfrom\u001b[39;00m \u001b[39merr\u001b[39;00m\n\u001b[0;32m   3624\u001b[0m \u001b[39mexcept\u001b[39;00m \u001b[39mTypeError\u001b[39;00m:\n\u001b[0;32m   3625\u001b[0m     \u001b[39m# If we have a listlike key, _check_indexing_error will raise\u001b[39;00m\n\u001b[0;32m   3626\u001b[0m     \u001b[39m#  InvalidIndexError. Otherwise we fall through and re-raise\u001b[39;00m\n\u001b[0;32m   3627\u001b[0m     \u001b[39m#  the TypeError.\u001b[39;00m\n\u001b[0;32m   3628\u001b[0m     \u001b[39mself\u001b[39m\u001b[39m.\u001b[39m_check_indexing_error(key)\n",
      "\u001b[1;31mKeyError\u001b[0m: 0"
     ]
    }
   ],
   "source": [
    "patientsBoth = MIMICDataProcessor( gv ).findPatientsInBothDatasets()\n",
    "patientsBoth\n"
   ]
  },
  {
   "cell_type": "code",
   "execution_count": null,
   "metadata": {},
   "outputs": [],
   "source": []
  },
  {
   "cell_type": "markdown",
   "metadata": {},
   "source": [
    "### DATA EXPLORATION OF GENERAL SCANPATHS, PUPIL DILATIONS, FIXATION DURATIONS\n",
    "\n"
   ]
  },
  {
   "cell_type": "code",
   "execution_count": null,
   "metadata": {},
   "outputs": [],
   "source": []
  }
 ],
 "metadata": {
  "kernelspec": {
   "display_name": "Python 3.9.12 ('base')",
   "language": "python",
   "name": "python3"
  },
  "language_info": {
   "codemirror_mode": {
    "name": "ipython",
    "version": 3
   },
   "file_extension": ".py",
   "mimetype": "text/x-python",
   "name": "python",
   "nbconvert_exporter": "python",
   "pygments_lexer": "ipython3",
   "version": "3.9.12"
  },
  "orig_nbformat": 4,
  "vscode": {
   "interpreter": {
    "hash": "6260509064eb67b36916815bc82da85b0a66bf2dbc63b7ed396e364365f7498b"
   }
  }
 },
 "nbformat": 4,
 "nbformat_minor": 2
}
